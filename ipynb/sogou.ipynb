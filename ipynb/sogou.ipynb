{
 "cells": [
  {
   "cell_type": "code",
   "execution_count": 2,
   "metadata": {
    "collapsed": true
   },
   "outputs": [],
   "source": [
    "import os\n",
    "import errno  \n",
    "import urllib.request, re, requests, urllib.parse\n",
    "import time\n",
    "import shutil\n",
    "\n",
    "urlopenheader={ 'User-Agent' : 'Mozilla/5.0 (X11; Fedora; Linux x86_64; rv:42.0) Gecko/20100101 Firefox/42.0',\n",
    "                \"QProxy-Token\": \"5eXfF1\"}"
   ]
  },
  {
   "cell_type": "code",
   "execution_count": 3,
   "metadata": {
    "collapsed": true
   },
   "outputs": [],
   "source": [
    "def mkdir_p(path):\n",
    "    try:\n",
    "        os.makedirs(path)\n",
    "    except OSError as exc:  # Python >2.5\n",
    "        if exc.errno == errno.EEXIST and os.path.isdir(path):\n",
    "            pass\n",
    "        else:\n",
    "            raise"
   ]
  },
  {
   "cell_type": "code",
   "execution_count": 4,
   "metadata": {
    "collapsed": true
   },
   "outputs": [],
   "source": [
    "def getHtml(request_url):\n",
    "#     request=urllib.request.Request(request_url,None,headers=urlopenheader)\n",
    "#     response=urllib.request.urlopen(request)\n",
    "    page = requests.get(request_url)\n",
    "    html_contents = page.text\n",
    "    html = html_contents\n",
    "    time.sleep(1.3)\n",
    "#     print(type(html))\n",
    "#     html = response.read().decode('utf8')\n",
    "    return html"
   ]
  },
  {
   "cell_type": "code",
   "execution_count": 5,
   "metadata": {
    "collapsed": true
   },
   "outputs": [],
   "source": [
    "def download(download_info):\n",
    "    (url, path) = download_info\n",
    "    for i in range(3):\n",
    "        time.sleep(0.1)\n",
    "#         print(\"trying %d times.\" % i)\n",
    "        try:\n",
    "            r = requests.get(url, timeout=1, stream=True)\n",
    "            if r.status_code == 200:\n",
    "                with open(path, 'wb') as f:\n",
    "                    r.raw.decode_content = True\n",
    "                    shutil.copyfileobj(r.raw, f) \n",
    "                    return 1\n",
    "            \n",
    "        except:\n",
    "            time.sleep(1)\n",
    "            pass\n",
    "    return 0\n",
    "# def mass_download(urls, nthread):\n",
    "#     print('Downloading...')\n",
    "#     download_infos = [(url, os.path.basename(url)) for url in urls]\n",
    "#     with Pool(nthread) as pool:\n",
    "#         pool.map(download, download_infos)        "
   ]
  },
  {
   "cell_type": "code",
   "execution_count": 6,
   "metadata": {
    "collapsed": false
   },
   "outputs": [],
   "source": [
    "\n",
    "def getSGImagesKW(keyword, imageDir, imageNum=100):\n",
    "    start = 1\n",
    "    downloadedNum = 0\n",
    "    mkdir_p(imageDir)\n",
    "    while downloadedNum<imageNum:\n",
    "        print(\"download %s images.\" % downloadedNum)\n",
    "        curDLNum=getSGImagesSingle(keyword, imageDir,start)\n",
    "        downloadedNum += curDLNum\n",
    "        start=downloadedNum+1\n"
   ]
  },
  {
   "cell_type": "code",
   "execution_count": 7,
   "metadata": {
    "collapsed": false
   },
   "outputs": [],
   "source": [
    "\n",
    "def getSGImagesSingle(keyword, imageDir, start=1):\n",
    "#     print(urllib.parse.quote(keyword))\n",
    "    url = \"http://pic.sogou.com/pics?ie=utf8&mode=1&start=%d&reqType=ajax&reqFrom=result&tn=0&query=%s&\" % (start, urllib.parse.quote(keyword))    \n",
    "    webcontent = getHtml(url)\n",
    "    imageUrlSet=set([])\n",
    "    pic_url = re.findall('\"pic_url\":\"([^\"]*?)\"',webcontent)  \n",
    "#     imageUrlSet.update(pic_url)\n",
    "    for i in range(len(pic_url)):\n",
    "#         print(i+1, pic_url[i])\n",
    "        res=download((pic_url[i], imageDir+\"/\"+os.path.basename(pic_url[i])))\n",
    "        if res==1:\n",
    "            imageUrlSet.add(pic_url[i])\n",
    "    return len(imageUrlSet)\n",
    "#         saveImage(i+1, decodeHtml(pic_url[i]))\n"
   ]
  },
  {
   "cell_type": "code",
   "execution_count": 7,
   "metadata": {
    "collapsed": false,
    "scrolled": false
   },
   "outputs": [
    {
     "name": "stdout",
     "output_type": "stream",
     "text": [
      "download 0 images.\n",
      "download 47 images.\n",
      "download 89 images.\n",
      "download 133 images.\n",
      "download 178 images.\n"
     ]
    }
   ],
   "source": [
    "getSGImagesKW(\"花式饺子\", \"E:\\\\data\\\\image\\\\sogou\\\\20170427\\\\huashijiaozi\",  imageNum=200)"
   ]
  },
  {
   "cell_type": "code",
   "execution_count": 7,
   "metadata": {
    "collapsed": false
   },
   "outputs": [
    {
     "name": "stdout",
     "output_type": "stream",
     "text": [
      "download 0 images.\n",
      "download 45 images.\n",
      "download 91 images.\n",
      "download 138 images.\n",
      "download 180 images.\n",
      "download 224 images.\n",
      "download 272 images.\n"
     ]
    }
   ],
   "source": [
    "getSGImagesKW(\"汤圆\", \"E:\\\\data\\\\image\\\\sogou\\\\20170427\\\\tangyuan\",  imageNum=300)"
   ]
  },
  {
   "cell_type": "code",
   "execution_count": 9,
   "metadata": {
    "collapsed": false
   },
   "outputs": [
    {
     "name": "stdout",
     "output_type": "stream",
     "text": [
      "download 0 images.\n",
      "download 41 images.\n",
      "download 83 images.\n",
      "download 122 images.\n",
      "download 164 images.\n"
     ]
    }
   ],
   "source": [
    "getSGImagesKW(\"卖气球\", \"E:\\\\data\\\\image\\\\sogou\\\\20170502\\\\mai4qiqiu\",  imageNum=200)"
   ]
  },
  {
   "cell_type": "code",
   "execution_count": null,
   "metadata": {
    "collapsed": true
   },
   "outputs": [],
   "source": []
  }
 ],
 "metadata": {
  "anaconda-cloud": {},
  "kernelspec": {
   "display_name": "Python [conda root]",
   "language": "python",
   "name": "conda-root-py"
  },
  "language_info": {
   "codemirror_mode": {
    "name": "ipython",
    "version": 3
   },
   "file_extension": ".py",
   "mimetype": "text/x-python",
   "name": "python",
   "nbconvert_exporter": "python",
   "pygments_lexer": "ipython3",
   "version": "3.5.2"
  }
 },
 "nbformat": 4,
 "nbformat_minor": 1
}
