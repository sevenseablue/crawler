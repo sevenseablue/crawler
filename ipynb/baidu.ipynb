{
 "cells": [
  {
   "cell_type": "code",
   "execution_count": 1,
   "metadata": {
    "collapsed": false
   },
   "outputs": [
    {
     "name": "stdout",
     "output_type": "stream",
     "text": [
      "hello\n"
     ]
    }
   ],
   "source": [
    "import os\n",
    "import errno  \n",
    "import urllib.request, re, requests, urllib.parse\n",
    "import time\n",
    "import shutil\n",
    "from PIL import Image\n",
    "\n",
    "urlopenheader={ 'User-Agent' : 'Mozilla/5.0 (X11; Fedora; Linux x86_64; rv:42.0) Gecko/20100101 Firefox/42.0',\n",
    "                \"QProxy-Token\": \"5eXfF1\"}\n",
    "print(\"hello\")"
   ]
  },
  {
   "cell_type": "code",
   "execution_count": 2,
   "metadata": {
    "collapsed": true
   },
   "outputs": [],
   "source": [
    "def mkdir_p(path):\n",
    "    try:\n",
    "        os.makedirs(path)\n",
    "    except OSError as exc:  # Python >2.5\n",
    "        if exc.errno == errno.EEXIST and os.path.isdir(path):\n",
    "            pass\n",
    "        else:\n",
    "            raise"
   ]
  },
  {
   "cell_type": "code",
   "execution_count": 3,
   "metadata": {
    "collapsed": true
   },
   "outputs": [],
   "source": [
    "def getHtml(request_url):\n",
    "#     request=urllib.request.Request(request_url,None,headers=urlopenheader)\n",
    "#     response=urllib.request.urlopen(request)\n",
    "    page = requests.get(request_url)\n",
    "    html_contents = page.text\n",
    "    html = html_contents\n",
    "    time.sleep(0.1)\n",
    "#     print(type(html))\n",
    "#     html = response.read().decode('utf8')\n",
    "    return html"
   ]
  },
  {
   "cell_type": "code",
   "execution_count": 4,
   "metadata": {
    "collapsed": true
   },
   "outputs": [],
   "source": [
    "def download(download_info):\n",
    "    (url, path) = download_info\n",
    "    for i in range(3):\n",
    "        time.sleep(0.1)\n",
    "#         print(\"trying %d times.\" % i)\n",
    "        try:\n",
    "            r = requests.get(url, timeout=1, stream=True)\n",
    "            if r.status_code == 200:\n",
    "                with open(path, 'wb') as f:\n",
    "                    r.raw.decode_content = True\n",
    "                    shutil.copyfileobj(r.raw, f) \n",
    "                    return 1\n",
    "            \n",
    "        except:\n",
    "            time.sleep(1)\n",
    "            pass\n",
    "    return 0\n",
    "# def mass_download(urls, nthread):\n",
    "#     print('Downloading...')\n",
    "#     download_infos = [(url, os.path.basename(url)) for url in urls]\n",
    "#     with Pool(nthread) as pool:\n",
    "#         pool.map(download, download_infos)        "
   ]
  },
  {
   "cell_type": "code",
   "execution_count": 5,
   "metadata": {
    "collapsed": false
   },
   "outputs": [],
   "source": [
    "\n",
    "def getSGImagesKW(keyword, imageDir, imageNum=100):\n",
    "    print(keyword)\n",
    "    start = 1\n",
    "    downloadedNum = 0\n",
    "    mkdir_p(imageDir)\n",
    "    file_pre=re.split(r\"\\\\|/\", imageDir)[-1]+\"_\"\n",
    "    while downloadedNum<imageNum:\n",
    "        print(\"download %s images.\" % downloadedNum)\n",
    "        curDLNum=getSGImagesSingle(keyword, imageDir,start, file_pre)\n",
    "        downloadedNum += curDLNum\n",
    "        start=downloadedNum+1\n"
   ]
  },
  {
   "cell_type": "code",
   "execution_count": 6,
   "metadata": {
    "collapsed": false
   },
   "outputs": [],
   "source": [
    "\n",
    "def getSGImagesSingle(keyword, imageDir, start=1, file_pre=\"dumpling_0424_\"):\n",
    "#     print(urllib.parse.quote(keyword))\n",
    "#     url = \"http://pic.sogou.com/pics?ie=utf8&mode=1&start=%d&reqType=ajax&reqFrom=result&tn=0&query=%s&\" % (start, urllib.parse.quote(keyword))    \n",
    "    url = \"http://images.baidu.com/search/flip?tn=baiduimage&ie=utf-8&word=%s&pn=%d&gsm=&\" % (urllib.parse.quote(keyword), start)    \n",
    "    ind=start\n",
    "    webcontent = getHtml(url)\n",
    "    imageUrlSet=set([])\n",
    "    pic_url = re.findall('\"objURL\":\"([^\"]*?)\"',webcontent)  \n",
    "    format_set = set([\"jpg\", \"jpeg\", \"png\"])\n",
    "#     imageUrlSet.update(pic_url)\n",
    "    for i in range(len(pic_url)):\n",
    "#         print(i+1, pic_url[i])\n",
    "        fpath = imageDir+\"/\"+os.path.basename(pic_url[i])\n",
    "        res=download((pic_url[i], fpath))\n",
    "        if res==1:\n",
    "            imageUrlSet.add(pic_url[i])\n",
    "            im=None\n",
    "            try:\n",
    "                if  os.path.exists(fpath) and os.path.isfile(fpath):\n",
    "                    fsize = os.path.getsize(fpath)\n",
    "                    if fsize<=20*1024:\n",
    "                        os.remove(fpath)\n",
    "                        continue\n",
    "                im = Image.open(fpath)\n",
    "                realFormat=im.format.lower()\n",
    "                imgSize = im.size\n",
    "                maxSize = max(imgSize)\n",
    "                minSize = min(imgSize)\n",
    "                im.close()\n",
    "                nameFormat=fpath.split(\".\")[-1].lower()\n",
    "#                 print(fpath, maxSize)\n",
    "                if realFormat in format_set and maxSize>=300 and minSize>=300:\n",
    "                    fpath_2 = imageDir + \"/\" + file_pre + (\"0424_%d.\" % ind) + realFormat\n",
    "#                     print(fpath_2)\n",
    "                    os.rename(fpath, fpath_2)\n",
    "                else:\n",
    "                    if im!=None:\n",
    "                        im.close()\n",
    "                    os.remove(fpath)\n",
    "                \n",
    "            except:\n",
    "                if im!=None:\n",
    "                    im.close()\n",
    "#                 os.remove(fpath)\n",
    "            ind += 1\n",
    "                    \n",
    "    return len(pic_url)\n",
    "#         saveImage(i+1, decodeHtml(pic_url[i]))\n"
   ]
  },
  {
   "cell_type": "code",
   "execution_count": 7,
   "metadata": {
    "collapsed": true
   },
   "outputs": [],
   "source": [
    "def getList(url=\"https://www.taobao.com/markets/tbhome/market-list\", reg=\"\"\"<a class=\"category-name\".*?>([^>]+)</a>\"\"\"):\n",
    "    webcontent = getHtml(url)\n",
    "    eles = re.findall(r\"%s\" % reg,webcontent)\n",
    "    return eles\n",
    "    "
   ]
  },
  {
   "cell_type": "code",
   "execution_count": 8,
   "metadata": {
    "collapsed": true
   },
   "outputs": [],
   "source": [
    "import os, sys, pinyin\n",
    "\n",
    "def getFiles(dir1):\n",
    "    if os.path.exists(dir1) and os.path.isdir(dir1):\n",
    "        print(\"%s is dir.\" % dir1)\n",
    "        return os.listdir(dir1)\n",
    "\n",
    "def renameFileToIndex(dir1, file_pre=\"dumpling_\"):\n",
    "    if os.path.exists(dir1) and os.path.isdir(dir1):\n",
    "        print(\"%s is dir.\" % dir1)\n",
    "        count=0\n",
    "        for f1 in os.listdir(dir1):\n",
    "            f2=dir1+\"/\"+f1\n",
    "            if os.path.isfile(f2):\n",
    "                isuf=f1.rfind(\".\")\n",
    "                f3=dir1+\"/\"+file_pre+ str(count)+f1[isuf:]\n",
    "                os.rename(f2, f3)\n",
    "                count += 1"
   ]
  },
  {
   "cell_type": "code",
   "execution_count": 9,
   "metadata": {
    "collapsed": true
   },
   "outputs": [],
   "source": [
    "\n",
    "def findWrongFormatImage(dir1):\n",
    "    needToDel=set([])\n",
    "    format_set = set([\"jpg\", \"jpeg\", \"png\"])\n",
    "#     imageUrlSet.update(pic_url)\n",
    "    file_pre=re.split(r\"\\\\|/\", dir1)[-1]+\"_0424_\"\n",
    "    start = 0\n",
    "    for d1 in os.listdir(dir1):\n",
    "        fpath=dir1+\"/\"+d1\n",
    "#         print(fpath)\n",
    "        im=None\n",
    "        try:\n",
    "            if  os.path.exists(fpath) and os.path.isfile(fpath):\n",
    "                fsize = os.path.getsize(fpath)\n",
    "                if fsize<=20*1024:\n",
    "                    os.remove(fpath)\n",
    "                    continue\n",
    "            im = Image.open(fpath)\n",
    "            realFormat=im.format.lower()\n",
    "            imgSize = im.size\n",
    "            maxSize = max(imgSize)\n",
    "            minSize = min(imgSize)\n",
    "            im.close()\n",
    "            nameFormat=fpath.split(\".\")[-1].lower()\n",
    "#             print(realFormat, maxSize, minSize)\n",
    "            if realFormat in format_set and maxSize>=300 and minSize>=300:\n",
    "                fpath_2 = dir1 + \"/\" + file_pre + (\"%d.\" % start) + realFormat\n",
    "                os.rename(fpath, fpath_2)\n",
    "            else:\n",
    "                if im!=None:\n",
    "                    im.close()\n",
    "                os.remove(fpath)\n",
    "\n",
    "        except:\n",
    "#             raise\n",
    "#             print(\"except\")\n",
    "            if im!=None:\n",
    "                im.close()\n",
    "            os.remove(fpath)\n",
    "        start += 1"
   ]
  },
  {
   "cell_type": "code",
   "execution_count": 10,
   "metadata": {
    "collapsed": false
   },
   "outputs": [],
   "source": [
    "#\"binggan dianxin haizhe jianbingguozi jutiao niangao pidong shanyao suanban tudouni wanyue xiaochuan\"\n",
    "for p in \"xiaodangao yinyuanbao yuyuan \".split():\n",
    "    findWrongFormatImage(r\"E:\\data\\image\\baidu20170424\\%s\" % p)"
   ]
  },
  {
   "cell_type": "code",
   "execution_count": null,
   "metadata": {
    "collapsed": false
   },
   "outputs": [],
   "source": []
  },
  {
   "cell_type": "code",
   "execution_count": 23,
   "metadata": {
    "collapsed": false
   },
   "outputs": [
    {
     "name": "stdout",
     "output_type": "stream",
     "text": [
      "E:\\data\\image\\baidu20170502\\lotus is dir.\n"
     ]
    }
   ],
   "source": [
    "renameFileToIndex(r\"E:\\data\\image\\baidu20170502\\lotus\", file_pre=\"lotus_0502_\")"
   ]
  },
  {
   "cell_type": "code",
   "execution_count": null,
   "metadata": {
    "collapsed": false
   },
   "outputs": [],
   "source": [
    "renameFileToIndex(r\"E:\\data\\image\\hongmaojiaozi\", file_pre=\"dumpling_0427_\")"
   ]
  },
  {
   "cell_type": "code",
   "execution_count": null,
   "metadata": {
    "collapsed": true
   },
   "outputs": [],
   "source": []
  },
  {
   "cell_type": "code",
   "execution_count": null,
   "metadata": {
    "collapsed": false
   },
   "outputs": [],
   "source": [
    "tbGoods=getList()"
   ]
  },
  {
   "cell_type": "code",
   "execution_count": null,
   "metadata": {
    "collapsed": false
   },
   "outputs": [],
   "source": [
    "print(tbGoods)"
   ]
  },
  {
   "cell_type": "code",
   "execution_count": null,
   "metadata": {
    "collapsed": false
   },
   "outputs": [],
   "source": [
    "s1=\"map3/*:\\?\\\"\\'<>|mp4\"\n",
    "s1_2=re.sub(r\"\"\"/|\\\\|\\*|\\:|\\?|\\\"|\\<|\\>|\\||\\'\"\"\", \"\", s1 )\n",
    "print(s1_2)"
   ]
  },
  {
   "cell_type": "code",
   "execution_count": null,
   "metadata": {
    "collapsed": false
   },
   "outputs": [],
   "source": [
    "for ele in tbGoods:\n",
    "    qw=ele\n",
    "    dir1=\"E:\\\\data\\\\image\\\\baidu\\\\%s\" % re.sub(r\"\"\"/|\\\\|\\*|\\:|\\?|\\\"|\\<|\\>|\\||\\'\"\"\", \"\", qw )\n",
    "    print(qw)\n",
    "    print(dir1)\n",
    "    getSGImagesKW(qw, dir1, imageNum=30)"
   ]
  },
  {
   "cell_type": "code",
   "execution_count": null,
   "metadata": {
    "collapsed": true
   },
   "outputs": [],
   "source": []
  },
  {
   "cell_type": "code",
   "execution_count": null,
   "metadata": {
    "collapsed": false,
    "scrolled": false
   },
   "outputs": [],
   "source": [
    "getSGImagesKW(\"红色台灯\", \"E:\\\\data\\\\image\\\\baidu\\\\红色台灯\", imageNum=300)"
   ]
  },
  {
   "cell_type": "code",
   "execution_count": null,
   "metadata": {
    "collapsed": false
   },
   "outputs": [],
   "source": [
    "getSGImagesKW(\"小蜡烛\", \"E:\\\\data\\\\image\\\\baidu\\\\小蜡烛\", imageNum=100)"
   ]
  },
  {
   "cell_type": "code",
   "execution_count": null,
   "metadata": {
    "collapsed": false
   },
   "outputs": [],
   "source": [
    "getSGImagesKW(\"圆形小蜡烛\", \"E:\\\\data\\\\image\\\\baidu\\\\圆形小蜡烛\", imageNum=30)\n",
    "\n",
    "getSGImagesKW(\"粗蜡烛\", \"E:\\\\data\\\\image\\\\baidu\\\\粗蜡烛\", imageNum=30)"
   ]
  },
  {
   "cell_type": "code",
   "execution_count": null,
   "metadata": {
    "collapsed": false
   },
   "outputs": [],
   "source": [
    "print(\"铁皮盒 圆形\")\n",
    "getSGImagesKW(\"铁皮盒 圆形\", \"E:\\\\data\\\\image\\\\baidu\\\\圆形铁皮盒\", imageNum=220)\n",
    "print(\"纸质 红包\")\n",
    "getSGImagesKW(\"纸质 红包\", \"E:\\\\data\\\\image\\\\baidu\\\\纸质红包\", imageNum=220)\n",
    "print(\"花灯\")\n",
    "getSGImagesKW(\"花灯\", \"E:\\\\data\\\\image\\\\baidu\\\\花灯\", imageNum=220)\n",
    "print(\"红色旅行箱\")\n",
    "getSGImagesKW(\"红色旅行箱\", \"E:\\\\data\\\\image\\\\baidu\\\\红色旅行箱\", imageNum=220)"
   ]
  },
  {
   "cell_type": "code",
   "execution_count": null,
   "metadata": {
    "collapsed": false
   },
   "outputs": [],
   "source": [
    "getSGImagesKW(\"彩色装饰球\", \"E:\\\\data\\\\image\\\\baidu\\\\彩色装饰球\", imageNum=300)"
   ]
  },
  {
   "cell_type": "code",
   "execution_count": null,
   "metadata": {
    "collapsed": false
   },
   "outputs": [],
   "source": [
    "getSGImagesKW(\"装饰球\", \"E:\\\\data\\\\image\\\\baidu\\\\装饰球\", imageNum=300)"
   ]
  },
  {
   "cell_type": "code",
   "execution_count": null,
   "metadata": {
    "collapsed": false
   },
   "outputs": [],
   "source": [
    "getSGImagesKW(\"圆柱形 红色\", \"E:\\\\data\\\\image\\\\baidu\\\\圆柱形红色\", imageNum=300)"
   ]
  },
  {
   "cell_type": "code",
   "execution_count": null,
   "metadata": {
    "collapsed": false
   },
   "outputs": [],
   "source": [
    "getSGImagesKW(\"电线\", \"E:\\\\data\\\\image\\\\baidu\\\\dianxian\", imageNum=300)"
   ]
  },
  {
   "cell_type": "code",
   "execution_count": null,
   "metadata": {
    "collapsed": false
   },
   "outputs": [],
   "source": [
    "getSGImagesKW(\"徽章\", \"E:\\\\data\\\\image\\\\baidu20170418\\\\huizhang\", imageNum=300)\n",
    "getSGImagesKW(\"拖鞋\", \"E:\\\\data\\\\image\\\\baidu20170418\\\\tuoxie\", imageNum=300)\n",
    "getSGImagesKW(\"线圈\", \"E:\\\\data\\\\image\\\\baidu20170418\\\\xianquan\", imageNum=300)\n",
    "getSGImagesKW(\"毛线\", \"E:\\\\data\\\\image\\\\baidu20170418\\\\maoxian\", imageNum=300)\n",
    "getSGImagesKW(\"垃圾袋\", \"E:\\\\data\\\\image\\\\baidu20170418\\\\lajidai\", imageNum=300)\n",
    "getSGImagesKW(\"沐浴球\", \"E:\\\\data\\\\image\\\\baidu20170418\\\\muyuqiu\", imageNum=300)\n",
    "getSGImagesKW(\"风筝\", \"E:\\\\data\\\\image\\\\baidu20170418\\\\fengzheng\", imageNum=300)\n"
   ]
  },
  {
   "cell_type": "code",
   "execution_count": null,
   "metadata": {
    "collapsed": false
   },
   "outputs": [],
   "source": [
    "getSGImagesKW(\"国徽\", \"E:\\\\data\\\\image\\\\baidu20170418\\\\guohui\", imageNum=300)\n",
    "getSGImagesKW(\"红色 徽章\", \"E:\\\\data\\\\image\\\\baidu20170418\\\\hongsehuizhang\", imageNum=300)"
   ]
  },
  {
   "cell_type": "code",
   "execution_count": null,
   "metadata": {
    "collapsed": false
   },
   "outputs": [],
   "source": [
    "getSGImagesKW(\"荷包\", \"E:\\\\data\\\\image\\\\baidu20170418\\\\hebao\", imageNum=300)\n",
    "getSGImagesKW(\"传统 绣球\", \"E:\\\\data\\\\image\\\\baidu20170418\\\\chuantongxiuqiu\", imageNum=300)"
   ]
  },
  {
   "cell_type": "code",
   "execution_count": null,
   "metadata": {
    "collapsed": false
   },
   "outputs": [],
   "source": [
    "getSGImagesKW(\"拿气球\", \"E:\\\\data\\\\image\\\\baidu20170419\\\\qiqiu\", imageNum=300)\n",
    "getSGImagesKW(\"红色 爱心\", \"E:\\\\data\\\\image\\\\baidu20170419\\\\hongseaixin\", imageNum=300)"
   ]
  },
  {
   "cell_type": "code",
   "execution_count": null,
   "metadata": {
    "collapsed": false
   },
   "outputs": [],
   "source": [
    "getSGImagesKW(\"红色 心形 气球\", \"E:\\\\data\\\\image\\\\baidu20170419\\\\hongsexinxingqiqiu\", imageNum=300)"
   ]
  },
  {
   "cell_type": "code",
   "execution_count": null,
   "metadata": {
    "collapsed": false
   },
   "outputs": [],
   "source": [
    "getSGImagesKW(\"蒸笼\", \"E:\\\\data\\\\image\\\\baidu20170419\\\\zhuzhenglong\", imageNum=300)"
   ]
  },
  {
   "cell_type": "code",
   "execution_count": null,
   "metadata": {
    "collapsed": false
   },
   "outputs": [],
   "source": [
    "getSGImagesKW(\"鼓\", \"E:\\\\data\\\\image\\\\baidu20170419\\\\gu\", imageNum=500)"
   ]
  },
  {
   "cell_type": "code",
   "execution_count": null,
   "metadata": {
    "collapsed": false
   },
   "outputs": [],
   "source": [
    "getSGImagesKW(\"饺子\", \"E:\\\\data\\\\image\\\\baidu20170419\\\\gu\", imageNum=500)"
   ]
  },
  {
   "cell_type": "code",
   "execution_count": null,
   "metadata": {
    "collapsed": false
   },
   "outputs": [],
   "source": [
    "#\"馒头， 元宵， 花卷， 小蛋糕， 元宝， 混沌， 锯条， 包子， 点心， 年糕， 煎饼果子， 蒜瓣， 弯月， 小船\"\n",
    "\n",
    "getSGImagesKW(\"混沌\", \"E:\\\\data\\\\image\\\\baidu20170424\\\\hundun\", imageNum=500)\n",
    "getSGImagesKW(\"馒头\", \"E:\\\\data\\\\image\\\\baidu20170424\\\\mantou\", imageNum=500)\n",
    "getSGImagesKW(\"元宵\", \"E:\\\\data\\\\image\\\\baidu20170424\\\\yuanxiao\", imageNum=500)\n",
    "getSGImagesKW(\"花卷\", \"E:\\\\data\\\\image\\\\baidu20170424\\\\huajuan\", imageNum=500)\n",
    "getSGImagesKW(\"小蛋糕\", \"E:\\\\data\\\\image\\\\baidu20170424\\\\xiaodangao\", imageNum=500)\n",
    "getSGImagesKW(\"元宝\", \"E:\\\\data\\\\image\\\\baidu20170424\\\\yuanbao\", imageNum=500)\n",
    "getSGImagesKW(\"锯条\", \"E:\\\\data\\\\image\\\\baidu20170424\\\\jutiao\", imageNum=500)\n",
    "getSGImagesKW(\"包子\", \"E:\\\\data\\\\image\\\\baidu20170424\\\\baozi\", imageNum=500)\n",
    "getSGImagesKW(\"点心\", \"E:\\\\data\\\\image\\\\baidu20170424\\\\dianxin\", imageNum=500)\n",
    "getSGImagesKW(\"年糕\", \"E:\\\\data\\\\image\\\\baidu20170424\\\\niangao\", imageNum=500)\n",
    "getSGImagesKW(\"煎饼果子\", \"E:\\\\data\\\\image\\\\baidu20170424\\\\jianbingguozi\", imageNum=500)\n",
    "getSGImagesKW(\"蒜瓣\", \"E:\\\\data\\\\image\\\\baidu20170424\\\\suanban\", imageNum=500)"
   ]
  },
  {
   "cell_type": "code",
   "execution_count": null,
   "metadata": {
    "collapsed": false
   },
   "outputs": [],
   "source": [
    "#\"馄钝, 银元宝， 汤圆， 烧麦\"\n",
    "#\"馄钝, 银元宝， 汤圆， 烧麦\"\n",
    "getSGImagesKW(\"弯月\", \"E:\\\\data\\\\image\\\\baidu20170424\\\\wanyue\", imageNum=500)\n",
    "getSGImagesKW(\"小船\", \"E:\\\\data\\\\image\\\\baidu20170424\\\\xiaochuan\", imageNum=500)\n",
    "getSGImagesKW(\"馄钝\", \"E:\\\\data\\\\image\\\\baidu20170424\\\\hundun2\", imageNum=500)\n",
    "getSGImagesKW(\"银元宝\", \"E:\\\\data\\\\image\\\\baidu20170424\\\\yinyuanbao\", imageNum=500)\n",
    "getSGImagesKW(\"汤圆\", \"E:\\\\data\\\\image\\\\baidu20170424\\\\tangyuan\", imageNum=500)\n",
    "getSGImagesKW(\"烧麦\", \"E:\\\\data\\\\image\\\\baidu20170424\\\\shaomai\", imageNum=500)"
   ]
  },
  {
   "cell_type": "code",
   "execution_count": null,
   "metadata": {
    "collapsed": false
   },
   "outputs": [],
   "source": [
    "getSGImagesKW(\"饼干\", \"E:\\\\data\\\\image\\\\baidu20170424\\\\binggan\", imageNum=500)\n",
    "getSGImagesKW(\"肠粉\", \"E:\\\\data\\\\image\\\\baidu20170424\\\\changfen\", imageNum=500)\n",
    "getSGImagesKW(\"年糕\", \"E:\\\\data\\\\image\\\\baidu20170424\\\\niangao\", imageNum=500)\n",
    "getSGImagesKW(\"皮冻\", \"E:\\\\data\\\\image\\\\baidu20170424\\\\pidong\", imageNum=500)\n",
    "getSGImagesKW(\"海蜇\", \"E:\\\\data\\\\image\\\\baidu20170424\\\\haizhe\", imageNum=500)\n",
    "getSGImagesKW(\"土豆泥\", \"E:\\\\data\\\\image\\\\baidu20170424\\\\tudouni\", imageNum=500)\n",
    "getSGImagesKW(\"核桃仁\", \"E:\\\\data\\\\image\\\\baidu20170424\\\\hetaoren\", imageNum=500)\n",
    "getSGImagesKW(\"芋圆\", \"E:\\\\data\\\\image\\\\baidu20170424\\\\yuyuan\", imageNum=500)"
   ]
  },
  {
   "cell_type": "code",
   "execution_count": null,
   "metadata": {
    "collapsed": false
   },
   "outputs": [],
   "source": [
    "getSGImagesKW(\"山药 去皮\", \"E:\\\\data\\\\image\\\\baidu20170424\\\\shanyao\", imageNum=500)\n"
   ]
  },
  {
   "cell_type": "code",
   "execution_count": null,
   "metadata": {
    "collapsed": true
   },
   "outputs": [],
   "source": [
    "getSGImagesKW(\"柚子瓣\", \"E:\\\\data\\\\image\\\\baidu20170424\\\\youziban\", imageNum=120)\n",
    "getSGImagesKW(\"桔子瓣\", \"E:\\\\data\\\\image\\\\baidu20170424\\\\juziban\", imageNum=120)\n",
    "getSGImagesKW(\"藕合\", \"E:\\\\data\\\\image\\\\baidu20170424\\\\ouhe\", imageNum=120)\n",
    "getSGImagesKW(\"炸油饼\", \"E:\\\\data\\\\image\\\\baidu20170424\\\\zhayoubing\", imageNum=120)\n",
    "getSGImagesKW(\"土豆片\", \"E:\\\\data\\\\image\\\\baidu20170424\\\\tudoupian\", imageNum=120)\n",
    "getSGImagesKW(\"虾片\", \"E:\\\\data\\\\image\\\\baidu20170424\\\\xiapian\", imageNum=120)\n",
    "getSGImagesKW(\"炸鸡\", \"E:\\\\data\\\\image\\\\baidu20170424\\\\zhaji\", imageNum=120)\n",
    "getSGImagesKW(\"花生\", \"E:\\\\data\\\\image\\\\baidu20170424\\\\huasheng\", imageNum=120)\n",
    "getSGImagesKW(\"手背\", \"E:\\\\data\\\\image\\\\baidu20170424\\\\shoubei\", imageNum=120)"
   ]
  },
  {
   "cell_type": "code",
   "execution_count": null,
   "metadata": {
    "collapsed": false
   },
   "outputs": [],
   "source": [
    "\n",
    "getSGImagesKW(\"白色结\", \"E:\\\\data\\\\image\\\\baidu20170424\\\\baisejie\", imageNum=20)\n",
    "getSGImagesKW(\"油条\", \"E:\\\\data\\\\image\\\\baidu20170424\\\\youtiao\", imageNum=120)\n",
    "getSGImagesKW(\"红薯块\", \"E:\\\\data\\\\image\\\\baidu20170424\\\\hongshukuai\", imageNum=120)\n",
    "getSGImagesKW(\"土豆块\", \"E:\\\\data\\\\image\\\\baidu20170424\\\\tudoukuai\", imageNum=120)\n",
    "getSGImagesKW(\"山药块\", \"E:\\\\data\\\\image\\\\baidu20170424\\\\shanyaokuai\", imageNum=120)"
   ]
  },
  {
   "cell_type": "code",
   "execution_count": null,
   "metadata": {
    "collapsed": false
   },
   "outputs": [],
   "source": [
    "getSGImagesKW(\"花式饺子\", \"E:\\\\data\\\\image\\\\baidu20170427\\\\huashijiaozi\", imageNum=300)\n",
    "getSGImagesKW(\"韭菜盒子\", \"E:\\\\data\\\\image\\\\baidu20170427\\\\jiucaihezi\", imageNum=300)"
   ]
  },
  {
   "cell_type": "code",
   "execution_count": null,
   "metadata": {
    "collapsed": false
   },
   "outputs": [],
   "source": [
    "getSGImagesKW(\"百合片\", \"E:\\\\data\\\\image\\\\baidu20170428\\\\baihepian\", imageNum=500)\n",
    "getSGImagesKW(\"苹果干\", \"E:\\\\data\\\\image\\\\baidu20170428\\\\pingguogan\", imageNum=300)\n",
    "getSGImagesKW(\"榴莲干\", \"E:\\\\data\\\\image\\\\baidu20170428\\\\liuliangan\", imageNum=300)\n",
    "getSGImagesKW(\"菠萝蜜干\", \"E:\\\\data\\\\image\\\\baidu20170428\\\\boluomigan\", imageNum=300)"
   ]
  },
  {
   "cell_type": "code",
   "execution_count": null,
   "metadata": {
    "collapsed": false
   },
   "outputs": [],
   "source": [
    "getSGImagesKW(\"香蕉片\", \"E:\\\\data\\\\image\\\\baidu20170428\\\\xiangjiaogan\", imageNum=200)"
   ]
  },
  {
   "cell_type": "code",
   "execution_count": null,
   "metadata": {
    "collapsed": false
   },
   "outputs": [],
   "source": [
    "getSGImagesKW(\"猫耳朵面\", \"E:\\\\data\\\\image\\\\baidu20170428\\\\maoerduomian\", imageNum=200)"
   ]
  },
  {
   "cell_type": "code",
   "execution_count": null,
   "metadata": {
    "collapsed": false
   },
   "outputs": [],
   "source": [
    "getSGImagesKW(\"烟花\", \"E:\\\\data\\\\image\\\\baidu20170502\\\\yanhua\", imageNum=500)\n",
    "\n",
    "\n"
   ]
  },
  {
   "cell_type": "code",
   "execution_count": 12,
   "metadata": {
    "collapsed": false
   },
   "outputs": [
    {
     "name": "stdout",
     "output_type": "stream",
     "text": [
      "手拿烟花\n",
      "download 0 images.\n"
     ]
    },
    {
     "ename": "PermissionError",
     "evalue": "[WinError 32] 另一个程序正在使用此文件，进程无法访问。: 'E:\\\\data\\\\image\\\\baidu20170502\\\\shounayanhua/10376187_600.jpg'",
     "output_type": "error",
     "traceback": [
      "\u001b[0;31m---------------------------------------------------------------------------\u001b[0m",
      "\u001b[0;31mOSError\u001b[0m                                   Traceback (most recent call last)",
      "\u001b[0;32m<ipython-input-6-f35a34b64dc0>\u001b[0m in \u001b[0;36mgetSGImagesSingle\u001b[0;34m(keyword, imageDir, start, file_pre)\u001b[0m\n\u001b[1;32m     24\u001b[0m                         \u001b[1;32mcontinue\u001b[0m\u001b[1;33m\u001b[0m\u001b[0m\n\u001b[0;32m---> 25\u001b[0;31m                 \u001b[0mim\u001b[0m \u001b[1;33m=\u001b[0m \u001b[0mImage\u001b[0m\u001b[1;33m.\u001b[0m\u001b[0mopen\u001b[0m\u001b[1;33m(\u001b[0m\u001b[0mfpath\u001b[0m\u001b[1;33m)\u001b[0m\u001b[1;33m\u001b[0m\u001b[0m\n\u001b[0m\u001b[1;32m     26\u001b[0m                 \u001b[0mrealFormat\u001b[0m\u001b[1;33m=\u001b[0m\u001b[0mim\u001b[0m\u001b[1;33m.\u001b[0m\u001b[0mformat\u001b[0m\u001b[1;33m.\u001b[0m\u001b[0mlower\u001b[0m\u001b[1;33m(\u001b[0m\u001b[1;33m)\u001b[0m\u001b[1;33m\u001b[0m\u001b[0m\n",
      "\u001b[0;32md:\\Anaconda3\\lib\\site-packages\\PIL\\Image.py\u001b[0m in \u001b[0;36mopen\u001b[0;34m(fp, mode)\u001b[0m\n\u001b[1;32m   2316\u001b[0m     raise IOError(\"cannot identify image file %r\"\n\u001b[0;32m-> 2317\u001b[0;31m                   % (filename if filename else fp))\n\u001b[0m\u001b[1;32m   2318\u001b[0m \u001b[1;33m\u001b[0m\u001b[0m\n",
      "\u001b[0;31mOSError\u001b[0m: cannot identify image file 'E:\\\\data\\\\image\\\\baidu20170502\\\\shounayanhua/10376187_600.jpg'",
      "\nDuring handling of the above exception, another exception occurred:\n",
      "\u001b[0;31mPermissionError\u001b[0m                           Traceback (most recent call last)",
      "\u001b[0;32m<ipython-input-12-0867d1f7e3f9>\u001b[0m in \u001b[0;36m<module>\u001b[0;34m()\u001b[0m\n\u001b[0;32m----> 1\u001b[0;31m \u001b[0mgetSGImagesKW\u001b[0m\u001b[1;33m(\u001b[0m\u001b[1;34m\"手拿烟花\"\u001b[0m\u001b[1;33m,\u001b[0m \u001b[1;34m\"E:\\\\data\\\\image\\\\baidu20170502\\\\shounayanhua\"\u001b[0m\u001b[1;33m,\u001b[0m \u001b[0mimageNum\u001b[0m\u001b[1;33m=\u001b[0m\u001b[1;36m300\u001b[0m\u001b[1;33m)\u001b[0m\u001b[1;33m\u001b[0m\u001b[0m\n\u001b[0m",
      "\u001b[0;32m<ipython-input-11-2ea46f94ab6e>\u001b[0m in \u001b[0;36mgetSGImagesKW\u001b[0;34m(keyword, imageDir, imageNum)\u001b[0m\n\u001b[1;32m      8\u001b[0m     \u001b[1;32mwhile\u001b[0m \u001b[0mdownloadedNum\u001b[0m\u001b[1;33m<\u001b[0m\u001b[0mimageNum\u001b[0m\u001b[1;33m:\u001b[0m\u001b[1;33m\u001b[0m\u001b[0m\n\u001b[1;32m      9\u001b[0m         \u001b[0mprint\u001b[0m\u001b[1;33m(\u001b[0m\u001b[1;34m\"download %s images.\"\u001b[0m \u001b[1;33m%\u001b[0m \u001b[0mdownloadedNum\u001b[0m\u001b[1;33m)\u001b[0m\u001b[1;33m\u001b[0m\u001b[0m\n\u001b[0;32m---> 10\u001b[0;31m         \u001b[0mcurDLNum\u001b[0m\u001b[1;33m=\u001b[0m\u001b[0mgetSGImagesSingle\u001b[0m\u001b[1;33m(\u001b[0m\u001b[0mkeyword\u001b[0m\u001b[1;33m,\u001b[0m \u001b[0mimageDir\u001b[0m\u001b[1;33m,\u001b[0m\u001b[0mstart\u001b[0m\u001b[1;33m,\u001b[0m \u001b[0mfile_pre\u001b[0m\u001b[1;33m)\u001b[0m\u001b[1;33m\u001b[0m\u001b[0m\n\u001b[0m\u001b[1;32m     11\u001b[0m         \u001b[0mdownloadedNum\u001b[0m \u001b[1;33m+=\u001b[0m \u001b[0mcurDLNum\u001b[0m\u001b[1;33m\u001b[0m\u001b[0m\n\u001b[1;32m     12\u001b[0m         \u001b[0mstart\u001b[0m\u001b[1;33m=\u001b[0m\u001b[0mdownloadedNum\u001b[0m\u001b[1;33m+\u001b[0m\u001b[1;36m1\u001b[0m\u001b[1;33m\u001b[0m\u001b[0m\n",
      "\u001b[0;32m<ipython-input-6-f35a34b64dc0>\u001b[0m in \u001b[0;36mgetSGImagesSingle\u001b[0;34m(keyword, imageDir, start, file_pre)\u001b[0m\n\u001b[1;32m     43\u001b[0m                 \u001b[1;32mif\u001b[0m \u001b[0mim\u001b[0m\u001b[1;33m!=\u001b[0m\u001b[1;32mNone\u001b[0m\u001b[1;33m:\u001b[0m\u001b[1;33m\u001b[0m\u001b[0m\n\u001b[1;32m     44\u001b[0m                     \u001b[0mim\u001b[0m\u001b[1;33m.\u001b[0m\u001b[0mclose\u001b[0m\u001b[1;33m(\u001b[0m\u001b[1;33m)\u001b[0m\u001b[1;33m\u001b[0m\u001b[0m\n\u001b[0;32m---> 45\u001b[0;31m                 \u001b[0mos\u001b[0m\u001b[1;33m.\u001b[0m\u001b[0mremove\u001b[0m\u001b[1;33m(\u001b[0m\u001b[0mfpath\u001b[0m\u001b[1;33m)\u001b[0m\u001b[1;33m\u001b[0m\u001b[0m\n\u001b[0m\u001b[1;32m     46\u001b[0m             \u001b[0mind\u001b[0m \u001b[1;33m+=\u001b[0m \u001b[1;36m1\u001b[0m\u001b[1;33m\u001b[0m\u001b[0m\n\u001b[1;32m     47\u001b[0m \u001b[1;33m\u001b[0m\u001b[0m\n",
      "\u001b[0;31mPermissionError\u001b[0m: [WinError 32] 另一个程序正在使用此文件，进程无法访问。: 'E:\\\\data\\\\image\\\\baidu20170502\\\\shounayanhua/10376187_600.jpg'"
     ]
    }
   ],
   "source": [
    "getSGImagesKW(\"手拿烟花\", \"E:\\\\data\\\\image\\\\baidu20170502\\\\shounayanhua\", imageNum=300)\n"
   ]
  },
  {
   "cell_type": "code",
   "execution_count": 10,
   "metadata": {
    "collapsed": false
   },
   "outputs": [
    {
     "name": "stdout",
     "output_type": "stream",
     "text": [
      "圆气球\n",
      "download 0 images.\n",
      "download 60 images.\n",
      "download 120 images.\n",
      "download 180 images.\n",
      "download 240 images.\n",
      "download 300 images.\n",
      "download 360 images.\n",
      "download 420 images.\n",
      "download 480 images.\n",
      "气球拱门\n",
      "download 0 images.\n",
      "download 60 images.\n",
      "download 120 images.\n",
      "download 180 images.\n",
      "download 240 images.\n",
      "download 300 images.\n",
      "download 360 images.\n",
      "download 420 images.\n",
      "download 480 images.\n",
      "帐篷\n",
      "download 0 images.\n",
      "download 60 images.\n",
      "download 120 images.\n",
      "download 180 images.\n",
      "download 240 images.\n",
      "download 300 images.\n",
      "download 360 images.\n",
      "download 420 images.\n",
      "download 480 images.\n",
      "蒙古包\n",
      "download 0 images.\n",
      "download 60 images.\n",
      "download 120 images.\n",
      "download 180 images.\n",
      "download 240 images.\n",
      "download 300 images.\n",
      "download 360 images.\n",
      "download 420 images.\n",
      "download 480 images.\n"
     ]
    }
   ],
   "source": [
    "getSGImagesKW(\"圆气球\", \"E:\\\\data\\\\image\\\\baidu20170502\\\\yuanqiqiu\", imageNum=500)\n",
    "getSGImagesKW(\"气球拱门\", \"E:\\\\data\\\\image\\\\baidu20170502\\\\qiqiugongmen\", imageNum=500)\n",
    "getSGImagesKW(\"帐篷\", \"E:\\\\data\\\\image\\\\baidu20170502\\\\zhangpeng\", imageNum=500)\n",
    "getSGImagesKW(\"蒙古包\", \"E:\\\\data\\\\image\\\\baidu20170502\\\\menggubao\", imageNum=500)"
   ]
  },
  {
   "cell_type": "code",
   "execution_count": 11,
   "metadata": {
    "collapsed": false
   },
   "outputs": [
    {
     "name": "stdout",
     "output_type": "stream",
     "text": [
      "室内帐篷\n",
      "download 0 images.\n",
      "download 60 images.\n",
      "download 120 images.\n",
      "download 180 images.\n",
      "download 240 images.\n"
     ]
    }
   ],
   "source": [
    "getSGImagesKW(\"室内帐篷\", \"E:\\\\data\\\\image\\\\baidu20170502\\\\shineizhangpeng\", imageNum=300)"
   ]
  },
  {
   "cell_type": "code",
   "execution_count": 12,
   "metadata": {
    "collapsed": false
   },
   "outputs": [
    {
     "name": "stdout",
     "output_type": "stream",
     "text": [
      "卡通氢气球\n",
      "download 0 images.\n",
      "download 60 images.\n",
      "download 120 images.\n",
      "download 180 images.\n",
      "download 240 images.\n"
     ]
    }
   ],
   "source": [
    "getSGImagesKW(\"卡通氢气球\", \"E:\\\\data\\\\image\\\\baidu20170502\\\\katongqingqiqiu\", imageNum=300)"
   ]
  },
  {
   "cell_type": "code",
   "execution_count": 13,
   "metadata": {
    "collapsed": false
   },
   "outputs": [
    {
     "name": "stdout",
     "output_type": "stream",
     "text": [
      "买气球\n",
      "download 0 images.\n",
      "download 60 images.\n",
      "download 120 images.\n",
      "download 180 images.\n",
      "download 240 images.\n"
     ]
    }
   ],
   "source": [
    "getSGImagesKW(\"买气球\", \"E:\\\\data\\\\image\\\\baidu20170502\\\\mai3qiqiu\", imageNum=300)"
   ]
  },
  {
   "cell_type": "code",
   "execution_count": 23,
   "metadata": {
    "collapsed": false
   },
   "outputs": [
    {
     "name": "stdout",
     "output_type": "stream",
     "text": [
      "蚊帐\n",
      "download 0 images.\n",
      "download 60 images.\n",
      "download 120 images.\n",
      "download 180 images.\n",
      "download 240 images.\n"
     ]
    }
   ],
   "source": [
    "getSGImagesKW(\"蚊帐\", \"E:\\\\data\\\\image\\\\baidu20170502\\\\wenzhang4\", imageNum=300)"
   ]
  },
  {
   "cell_type": "code",
   "execution_count": 24,
   "metadata": {
    "collapsed": false
   },
   "outputs": [
    {
     "name": "stdout",
     "output_type": "stream",
     "text": [
      "枯树\n",
      "download 0 images.\n",
      "download 60 images.\n",
      "download 120 images.\n",
      "download 180 images.\n",
      "download 240 images.\n",
      "冬天 枯树\n",
      "download 0 images.\n",
      "download 60 images.\n",
      "download 120 images.\n",
      "download 180 images.\n",
      "download 240 images.\n",
      "红叶\n",
      "download 0 images.\n",
      "download 60 images.\n",
      "download 120 images.\n",
      "download 180 images.\n",
      "download 240 images.\n",
      "download 300 images.\n",
      "download 360 images.\n",
      "download 420 images.\n",
      "download 480 images.\n",
      "黄叶\n",
      "download 0 images.\n",
      "download 60 images.\n",
      "download 120 images.\n",
      "download 180 images.\n",
      "download 240 images.\n",
      "download 300 images.\n",
      "download 360 images.\n",
      "download 420 images.\n",
      "download 480 images.\n",
      "枫叶\n",
      "download 0 images.\n",
      "download 60 images.\n",
      "download 120 images.\n",
      "download 180 images.\n",
      "download 240 images.\n",
      "download 300 images.\n",
      "download 360 images.\n",
      "download 420 images.\n",
      "download 480 images.\n",
      "梅花\n",
      "download 0 images.\n",
      "download 60 images.\n",
      "download 120 images.\n",
      "download 180 images.\n",
      "download 240 images.\n",
      "download 300 images.\n",
      "download 360 images.\n",
      "download 420 images.\n",
      "download 480 images.\n",
      "樱花\n",
      "download 0 images.\n",
      "download 60 images.\n",
      "download 120 images.\n",
      "download 180 images.\n",
      "download 240 images.\n",
      "download 300 images.\n",
      "download 360 images.\n",
      "download 420 images.\n",
      "download 480 images.\n",
      "荷花\n",
      "download 0 images.\n",
      "download 60 images.\n",
      "download 120 images.\n",
      "download 180 images.\n",
      "download 240 images.\n",
      "download 300 images.\n",
      "download 360 images.\n",
      "download 420 images.\n",
      "download 480 images.\n",
      "牡丹\n",
      "download 0 images.\n",
      "download 60 images.\n",
      "download 120 images.\n",
      "download 180 images.\n",
      "download 240 images.\n",
      "download 300 images.\n",
      "download 360 images.\n",
      "download 420 images.\n",
      "download 480 images.\n",
      "迎春花\n",
      "download 0 images.\n",
      "download 60 images.\n",
      "download 120 images.\n",
      "download 180 images.\n",
      "download 240 images.\n",
      "download 300 images.\n",
      "download 360 images.\n",
      "download 420 images.\n",
      "download 480 images.\n",
      "桃花\n",
      "download 0 images.\n",
      "download 60 images.\n",
      "download 120 images.\n",
      "download 180 images.\n",
      "download 240 images.\n",
      "download 300 images.\n",
      "download 360 images.\n",
      "download 420 images.\n",
      "download 480 images.\n",
      "月季\n",
      "download 0 images.\n",
      "download 60 images.\n",
      "download 120 images.\n",
      "download 180 images.\n",
      "download 240 images.\n",
      "download 300 images.\n",
      "download 360 images.\n",
      "download 420 images.\n",
      "download 480 images.\n",
      "菊花\n",
      "download 0 images.\n",
      "download 60 images.\n",
      "download 120 images.\n",
      "download 180 images.\n",
      "download 240 images.\n",
      "download 300 images.\n",
      "download 360 images.\n",
      "download 420 images.\n",
      "download 480 images.\n",
      "油菜花\n",
      "download 0 images.\n",
      "download 60 images.\n",
      "download 120 images.\n",
      "download 180 images.\n",
      "download 240 images.\n",
      "download 300 images.\n",
      "download 360 images.\n",
      "download 420 images.\n",
      "download 480 images.\n",
      "薰衣草\n",
      "download 0 images.\n",
      "download 60 images.\n",
      "download 120 images.\n",
      "download 180 images.\n",
      "download 240 images.\n",
      "download 300 images.\n",
      "download 360 images.\n",
      "download 420 images.\n",
      "download 480 images.\n",
      "玉兰花\n",
      "download 0 images.\n",
      "download 60 images.\n",
      "download 120 images.\n",
      "download 180 images.\n",
      "download 240 images.\n",
      "download 300 images.\n",
      "download 360 images.\n",
      "download 420 images.\n",
      "download 480 images.\n",
      "桂花\n",
      "download 0 images.\n",
      "download 60 images.\n",
      "download 120 images.\n",
      "download 180 images.\n",
      "download 240 images.\n",
      "download 300 images.\n",
      "download 360 images.\n",
      "download 420 images.\n",
      "download 480 images.\n"
     ]
    }
   ],
   "source": [
    "getSGImagesKW(\"枯树\", \"E:\\\\data\\\\image\\\\baidu20170502\\\\kushu\", imageNum=300)\n",
    "getSGImagesKW(\"冬天 枯树\", \"E:\\\\data\\\\image\\\\baidu20170502\\\\dongtiankushu\", imageNum=300)\n",
    "getSGImagesKW(\"红叶\", \"E:\\\\data\\\\image\\\\baidu20170502\\\\hongye\", imageNum=500)\n",
    "getSGImagesKW(\"黄叶\", \"E:\\\\data\\\\image\\\\baidu20170502\\\\huangye\", imageNum=500)\n",
    "getSGImagesKW(\"枫叶\", \"E:\\\\data\\\\image\\\\baidu20170502\\\\fengye\", imageNum=500)\n",
    "getSGImagesKW(\"梅花\", \"E:\\\\data\\\\image\\\\baidu20170502\\\\meihua\", imageNum=500)\n",
    "getSGImagesKW(\"樱花\", \"E:\\\\data\\\\image\\\\baidu20170502\\\\yinghua\", imageNum=500)\n",
    "getSGImagesKW(\"荷花\", \"E:\\\\data\\\\image\\\\baidu20170502\\\\hehua\", imageNum=500)\n",
    "getSGImagesKW(\"牡丹\", \"E:\\\\data\\\\image\\\\baidu20170502\\\\mudan\", imageNum=500)\n",
    "getSGImagesKW(\"迎春花\", \"E:\\\\data\\\\image\\\\baidu20170502\\\\yingchunhua\", imageNum=500)\n",
    "getSGImagesKW(\"桃花\", \"E:\\\\data\\\\image\\\\baidu20170502\\\\taohua\", imageNum=500)\n",
    "getSGImagesKW(\"月季\", \"E:\\\\data\\\\image\\\\baidu20170502\\\\yueji\", imageNum=500)\n",
    "getSGImagesKW(\"菊花\", \"E:\\\\data\\\\image\\\\baidu20170502\\\\juhua\", imageNum=500)\n",
    "getSGImagesKW(\"油菜花\", \"E:\\\\data\\\\image\\\\baidu20170502\\\\youcaihua\", imageNum=500)\n",
    "getSGImagesKW(\"薰衣草\", \"E:\\\\data\\\\image\\\\baidu20170502\\\\xunyicao\", imageNum=500)\n",
    "getSGImagesKW(\"玉兰花\", \"E:\\\\data\\\\image\\\\baidu20170502\\\\yulanhua\", imageNum=500)\n",
    "getSGImagesKW(\"桂花\", \"E:\\\\data\\\\image\\\\baidu20170502\\\\guihua\", imageNum=500)\n",
    "\n",
    "\n"
   ]
  },
  {
   "cell_type": "code",
   "execution_count": 16,
   "metadata": {
    "collapsed": false
   },
   "outputs": [
    {
     "name": "stdout",
     "output_type": "stream",
     "text": [
      "牡丹花摄影高清图片\n",
      "download 0 images.\n",
      "download 60 images.\n",
      "download 120 images.\n",
      "download 180 images.\n",
      "download 240 images.\n",
      "梅花摄影高清图片\n",
      "download 0 images.\n",
      "download 60 images.\n",
      "download 120 images.\n",
      "download 180 images.\n",
      "download 240 images.\n",
      "download 300 images.\n",
      "download 360 images.\n",
      "download 420 images.\n",
      "download 480 images.\n"
     ]
    }
   ],
   "source": [
    "\n",
    "getSGImagesKW(\"牡丹花摄影高清图片\", \"E:\\\\data\\\\image\\\\baidu20170502\\\\mudan\", imageNum=300)\n",
    "getSGImagesKW(\"梅花摄影高清图片\", \"E:\\\\data\\\\image\\\\baidu20170502\\\\meihua\", imageNum=500)"
   ]
  },
  {
   "cell_type": "code",
   "execution_count": null,
   "metadata": {
    "collapsed": true
   },
   "outputs": [],
   "source": []
  }
 ],
 "metadata": {
  "anaconda-cloud": {},
  "kernelspec": {
   "display_name": "Python [conda root]",
   "language": "python",
   "name": "conda-root-py"
  },
  "language_info": {
   "codemirror_mode": {
    "name": "ipython",
    "version": 3
   },
   "file_extension": ".py",
   "mimetype": "text/x-python",
   "name": "python",
   "nbconvert_exporter": "python",
   "pygments_lexer": "ipython3",
   "version": "3.5.2"
  }
 },
 "nbformat": 4,
 "nbformat_minor": 1
}
